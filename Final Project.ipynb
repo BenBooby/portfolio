{
 "cells": [
  {
   "cell_type": "code",
   "execution_count": 62,
   "metadata": {},
   "outputs": [],
   "source": [
    "#Pytorch\n",
    "import torch\n",
    "from torchvision import transforms, datasets\n",
    "from torch.utils.data import Subset, DataLoader, ConcatDataset\n",
    "import torchvision.models as models\n",
    "from sklearn.model_selection import KFold\n",
    "import torch.optim as optim\n",
    "\n",
    "Imagesize = 500\n",
    "data_transform = transforms.Compose([\n",
    "        transforms.Resize((Imagesize, Imagesize)),\n",
    "        transforms.ToTensor(),\n",
    "        transforms.Normalize(mean=[0.485, 0.456, 0.406], std=[0.229, 0.224, 0.225])\n",
    "    ])\n",
    "\n",
    "#train_dataset = datasets.ImageFolder(root='trainset_500', transform=data_transform)\n",
    "#validation_dataset = datasets.ImageFolder(root='testset_500', transform=data_transform)\n",
    "#dataset = ConcatDataset([train_dataset,validation_dataset])\n",
    "\n",
    "train_dataset = datasets.ImageFolder(root='trainset_500', transform=data_transform)\n",
    "validation_dataset = datasets.ImageFolder(root='testset_500', transform=data_transform)\n",
    "dataset = train_dataset\n",
    "#validation_loader = torch.utils.data.DataLoader(validation_dataset, batch_size=32, shuffle=True)\n",
    "#train_loader = torch.utils.data.DataLoader(train_dataset, batch_size=32, shuffle=True)\n"
   ]
  },
  {
   "cell_type": "code",
   "execution_count": 92,
   "metadata": {},
   "outputs": [],
   "source": [
    "import torch.nn as nn\n",
    "import torch.nn.functional as F\n",
    "\n",
    "class SimpleCNN(nn.Module):\n",
    "    def __init__(self):\n",
    "        super(SimpleCNN, self).__init__()\n",
    "        self.conv1 = nn.Conv2d(3, 32, kernel_size=3, padding=1)\n",
    "        self.conv2 = nn.Conv2d(32, 64, kernel_size=3, padding=1)\n",
    "        self.fc1 = nn.Linear(Imagesize//4 * Imagesize//4 * 64, 512)\n",
    "        self.fc2 = nn.Linear(512, 2)\n",
    "\n",
    "    def forward(self, x):\n",
    "        x = F.max_pool2d(F.relu(self.conv1(x)), 2)\n",
    "        x = F.max_pool2d(F.relu(self.conv2(x)), 2)\n",
    "        x = x.view(-1, Imagesize//4 * Imagesize//4 * 64)\n",
    "        x = F.relu(self.fc1(x))\n",
    "        x = self.fc2(x)\n",
    "        return F.log_softmax(x, dim=1)\n",
    "\n",
    "model = SimpleCNN()\n"
   ]
  },
  {
   "cell_type": "code",
   "execution_count": 87,
   "metadata": {},
   "outputs": [
    {
     "name": "stderr",
     "output_type": "stream",
     "text": [
      "/Users/a_burning_cake/.pyenv/versions/3.11.3/lib/python3.11/site-packages/torchvision/models/_utils.py:208: UserWarning: The parameter 'pretrained' is deprecated since 0.13 and may be removed in the future, please use 'weights' instead.\n",
      "  warnings.warn(\n",
      "/Users/a_burning_cake/.pyenv/versions/3.11.3/lib/python3.11/site-packages/torchvision/models/_utils.py:223: UserWarning: Arguments other than a weight enum or `None` for 'weights' are deprecated since 0.13 and may be removed in the future. The current behavior is equivalent to passing `weights=ResNet18_Weights.IMAGENET1K_V1`. You can also use `weights=ResNet18_Weights.DEFAULT` to get the most up-to-date weights.\n",
      "  warnings.warn(msg)\n"
     ]
    }
   ],
   "source": [
    "model = models.resnet18(pretrained=True)\n",
    "\n",
    "# Replace the final layer to match the number of classes in your dataset\n",
    "num_features = model.fc.in_features\n",
    "model.fc = torch.nn.Linear(num_features, 2)"
   ]
  },
  {
   "cell_type": "code",
   "execution_count": 93,
   "metadata": {},
   "outputs": [
    {
     "name": "stdout",
     "output_type": "stream",
     "text": [
      "FOLD 0\n",
      "--------------------------------\n",
      "Accuracy on validation set: 81.25%\n",
      "FOLD 1\n",
      "--------------------------------\n",
      "Accuracy on validation set: 33.333333333333336%\n",
      "FOLD 2\n",
      "--------------------------------\n",
      "Accuracy on validation set: 86.66666666666667%\n",
      "FOLD 3\n",
      "--------------------------------\n",
      "Accuracy on validation set: 80.0%\n"
     ]
    }
   ],
   "source": [
    "\n",
    "\n",
    "# Assuming 'dataset' is your complete dataset\n",
    "k_folds = 4\n",
    "kfold = KFold(n_splits=k_folds, shuffle=True)\n",
    "\n",
    "# This will store the results for each fold\n",
    "results = {}\n",
    "\n",
    "# Enumerate splits\n",
    "for fold, (train_ids, test_ids) in enumerate(kfold.split(dataset)):\n",
    "    # Print\n",
    "    print(f'FOLD {fold}')\n",
    "    print('--------------------------------')\n",
    "\n",
    "    # Sample elements randomly from a given list of ids, no replacement.\n",
    "    train_subsampler = Subset(dataset, train_ids)\n",
    "    test_subsampler = Subset(dataset, test_ids)\n",
    "\n",
    "    # Define data loaders for training and testing data in this fold\n",
    "    train_loader = DataLoader(train_subsampler, batch_size=60, shuffle=True)\n",
    "    test_loader = DataLoader(test_subsampler, batch_size=20, shuffle=False)\n",
    "\n",
    "    #recall\n",
    "    #weights = torch.ones([Imagesize,Imagesize]) * 3\n",
    "    #define loss function \n",
    "    #criterion = nn.BCEWithLogitsLoss()\n",
    "    criterion = nn.CrossEntropyLoss()\n",
    "    optimizer = optim.Adam(model.parameters(), lr=0.001)\n",
    "\n",
    "    for epoch in range(2):\n",
    "        model.train()\n",
    "        for data in train_loader:\n",
    "            inputs, labels = data\n",
    "            optimizer.zero_grad()\n",
    "            outputs = model(inputs)\n",
    "            loss = criterion(outputs, labels)\n",
    "            loss.backward()\n",
    "            optimizer.step()\n",
    "\n",
    "        model.eval()\n",
    "\n",
    "    correct = 0\n",
    "    total = 0\n",
    "    with torch.no_grad():\n",
    "        for data in test_loader:\n",
    "            images, labels = data\n",
    "            outputs = model(images)\n",
    "            _, predicted = torch.max(outputs.data, 1)\n",
    "            total += labels.size(0)\n",
    "            correct += (predicted == labels).sum().item()\n",
    "\n",
    "\n",
    "    print(f'Accuracy on validation set: {100 * correct / total}%')\n",
    "    #print(f'Accuracy on antagonist detection: {100 * correct_ant / total_ant}%')\n",
    "\n",
    "# Saving the model\n",
    "torch.save(model.state_dict(), 'protagonist_antagonist_classifier.pth')\n"
   ]
  },
  {
   "cell_type": "code",
   "execution_count": 94,
   "metadata": {},
   "outputs": [
    {
     "name": "stdout",
     "output_type": "stream",
     "text": [
      "Accuracy on validation set: 65.0%\n",
      "Dataset ImageFolder\n",
      "    Number of datapoints: 20\n",
      "    Root location: testset_500\n",
      "    StandardTransform\n",
      "Transform: Compose(\n",
      "               Resize(size=(500, 500), interpolation=bilinear, max_size=None, antialias=warn)\n",
      "               ToTensor()\n",
      "               Normalize(mean=[0.485, 0.456, 0.406], std=[0.229, 0.224, 0.225])\n",
      "           )\n",
      "20\n",
      "13\n"
     ]
    }
   ],
   "source": [
    "validation_loader = DataLoader(validation_dataset, shuffle=False)\n",
    "\n",
    "total = 0\n",
    "correct = 0\n",
    "with torch.no_grad():\n",
    "    for data in validation_loader:\n",
    "        images, labels = data\n",
    "        outputs = model(images)\n",
    "        _, predicted = torch.max(outputs.data, 1)\n",
    "        total += labels.size(0)\n",
    "        correct += (predicted == labels).sum().item()\n",
    "        \n",
    "print(f'Accuracy on validation set: {100 * correct / total}%')\n",
    "print(validation_dataset)\n",
    "print(total)\n",
    "print(correct)"
   ]
  },
  {
   "cell_type": "code",
   "execution_count": 97,
   "metadata": {},
   "outputs": [
    {
     "name": "stdout",
     "output_type": "stream",
     "text": [
      "sephiroth.png was classified as: 0\n",
      "wario.png was classified as: 0\n",
      "wolf.png was classified as: 0\n",
      "waluigi.png was classified as: 0\n",
      "The_Heartless_Phantom.png was classified as: 0\n"
     ]
    }
   ],
   "source": [
    "\n",
    "\n",
    "# Function to load image and transform\n",
    "def process_image(image_path):\n",
    "    image = Image.open(image_path)\n",
    "    # Define transformations\n",
    "    transform = transforms.Compose([\n",
    "        transforms.Resize((Imagesize, Imagesize)),\n",
    "        transforms.ToTensor(),\n",
    "        # Normalize using the same values you used for training\n",
    "        transforms.Normalize(mean=[0.485, 0.456, 0.406], std=[0.229, 0.224, 0.225])\n",
    "    ])\n",
    "    return transform(image).unsqueeze(0)\n",
    "\n",
    "# Function to get prediction\n",
    "def classify_image(image_path):\n",
    "    image = process_image(image_path)\n",
    "    with torch.no_grad():\n",
    "        output = model(image)\n",
    "        _, predicted = torch.max(output, 1)\n",
    "    return predicted.item()\n",
    "\n",
    "# Example usage\n",
    "\n",
    "import glob\n",
    "files = glob.glob(\"testset_500/A/*.png\")\n",
    "#print(files)\n",
    "for img in files:\n",
    "    image_path = img\n",
    "    classification = classify_image(image_path)\n",
    "    print(img.split('/')[-1]+ f' was classified as: {classification}')"
   ]
  },
  {
   "cell_type": "code",
   "execution_count": null,
   "metadata": {},
   "outputs": [],
   "source": []
  }
 ],
 "metadata": {
  "kernelspec": {
   "display_name": "Python 3",
   "language": "python",
   "name": "python3"
  },
  "language_info": {
   "codemirror_mode": {
    "name": "ipython",
    "version": 3
   },
   "file_extension": ".py",
   "mimetype": "text/x-python",
   "name": "python",
   "nbconvert_exporter": "python",
   "pygments_lexer": "ipython3",
   "version": "3.11.3"
  }
 },
 "nbformat": 4,
 "nbformat_minor": 2
}
